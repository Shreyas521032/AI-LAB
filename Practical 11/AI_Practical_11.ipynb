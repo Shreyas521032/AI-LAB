{
  "nbformat": 4,
  "nbformat_minor": 0,
  "metadata": {
    "colab": {
      "provenance": []
    },
    "kernelspec": {
      "name": "python3",
      "display_name": "Python 3"
    },
    "language_info": {
      "name": "python"
    }
  },
  "cells": [
    {
      "cell_type": "code",
      "source": [
        "# Case Study : A Course Advisor Expert System"
      ],
      "metadata": {
        "id": "vSPaEgy3ilq0"
      },
      "execution_count": 3,
      "outputs": []
    },
    {
      "cell_type": "code",
      "execution_count": 4,
      "metadata": {
        "colab": {
          "base_uri": "https://localhost:8080/"
        },
        "id": "nk081uATiEeW",
        "outputId": "ed31d08d-ff59-47a0-e1f2-aa969d72630e"
      },
      "outputs": [
        {
          "output_type": "stream",
          "name": "stdout",
          "text": [
            "Course recommendations: ['CS101', 'CS102', 'MA101']\n",
            "Accuracy: 0.60\n",
            "Precision: 0.67\n",
            "Recall: 0.67\n"
          ]
        }
      ],
      "source": [
        "def course_advisor(student_profile):\n",
        "    \"\"\"Provides course recommendations based on student profile.\"\"\"\n",
        "    courses = {\n",
        "        \"CS101\": {\"prerequisites\": [], \"area\": \"programming\"},\n",
        "        \"CS102\": {\"prerequisites\": [\"CS101\"], \"area\": \"programming\"},\n",
        "        \"MA101\": {\"prerequisites\": [], \"area\": \"math\"},\n",
        "        \"PH101\": {\"prerequisites\": [], \"area\": \"physics\"},\n",
        "    }\n",
        "\n",
        "    recommendations = []\n",
        "    for course, details in courses.items():\n",
        "        if all(prereq in student_profile[\"completed_courses\"] for prereq in details[\"prerequisites\"]):\n",
        "            if details[\"area\"] in student_profile[\"interests\"]:\n",
        "                recommendations.append(course)\n",
        "\n",
        "    return recommendations\n",
        "\n",
        "# Case Study: Evaluation of Medical Expert Systems\n",
        "\n",
        "def evaluate_medical_expert_system(system_predictions, ground_truth):\n",
        "    \"\"\"Evaluates the performance of a medical expert system.\"\"\"\n",
        "    from sklearn.metrics import accuracy_score, precision_score, recall_score\n",
        "\n",
        "    accuracy = accuracy_score(ground_truth, system_predictions)\n",
        "    precision = precision_score(ground_truth, system_predictions)\n",
        "    recall = recall_score(ground_truth, system_predictions)\n",
        "\n",
        "    print(f\"Accuracy: {accuracy:.2f}\")\n",
        "    print(f\"Precision: {precision:.2f}\")\n",
        "    print(f\"Recall: {recall:.2f}\")\n",
        "\n",
        "student_profile = {\n",
        "    \"completed_courses\": [\"CS101\"],\n",
        "    \"interests\": [\"programming\", \"math\"],\n",
        "}\n",
        "\n",
        "course_recommendations = course_advisor(student_profile)\n",
        "print(\"Course recommendations:\", course_recommendations)\n",
        "\n",
        "system_predictions = [1, 0, 1, 1, 0]\n",
        "ground_truth = [1, 1, 0, 1, 0]\n",
        "\n",
        "evaluate_medical_expert_system(system_predictions, ground_truth)"
      ]
    }
  ]
}