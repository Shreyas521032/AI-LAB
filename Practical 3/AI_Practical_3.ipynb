{
  "nbformat": 4,
  "nbformat_minor": 0,
  "metadata": {
    "colab": {
      "provenance": []
    },
    "kernelspec": {
      "name": "python3",
      "display_name": "Python 3"
    },
    "language_info": {
      "name": "python"
    }
  },
  "cells": [
    {
      "cell_type": "code",
      "execution_count": 1,
      "metadata": {
        "id": "uJL5i1QebJTL"
      },
      "outputs": [],
      "source": [
        "# 3. Solve 8-Queens Problem with suitable assumptions"
      ]
    },
    {
      "cell_type": "code",
      "source": [
        "N = 8\n",
        "\n",
        "def print_board(board):\n",
        "    for row in board:\n",
        "        print(\" \".join(\"Q\" if col else \".\" for col in row))\n",
        "    print()\n",
        "\n",
        "def is_safe(board, row, col):\n",
        "    for i in range(row):\n",
        "        if board[i][col] == 1:\n",
        "            return False\n",
        "        if col - (row - i) >= 0 and board[i][col - (row - i)] == 1:\n",
        "            return False\n",
        "        if col + (row - i) < N and board[i][col + (row - i)] == 1:\n",
        "            return False\n",
        "    return True\n",
        "\n",
        "def solve_n_queens(board, row):\n",
        "    if row == N:\n",
        "        print_board(board)\n",
        "        return True\n",
        "    for col in range(N):\n",
        "        if is_safe(board, row, col):\n",
        "            board[row][col] = 1\n",
        "            if solve_n_queens(board, row + 1):\n",
        "                return True\n",
        "            board[row][col] = 0\n",
        "    return False\n",
        "\n",
        "board = [[0] * N for _ in range(N)]\n",
        "\n",
        "solve_n_queens(board, 0)"
      ],
      "metadata": {
        "id": "UaynQhgqbKGU",
        "outputId": "2309267d-a937-4420-a17b-37b49a619f7b",
        "colab": {
          "base_uri": "https://localhost:8080/"
        }
      },
      "execution_count": 2,
      "outputs": [
        {
          "output_type": "stream",
          "name": "stdout",
          "text": [
            "Q . . . . . . .\n",
            ". . . . Q . . .\n",
            ". . . . . . . Q\n",
            ". . . . . Q . .\n",
            ". . Q . . . . .\n",
            ". . . . . . Q .\n",
            ". Q . . . . . .\n",
            ". . . Q . . . .\n",
            "\n"
          ]
        },
        {
          "output_type": "execute_result",
          "data": {
            "text/plain": [
              "True"
            ]
          },
          "metadata": {},
          "execution_count": 2
        }
      ]
    }
  ]
}