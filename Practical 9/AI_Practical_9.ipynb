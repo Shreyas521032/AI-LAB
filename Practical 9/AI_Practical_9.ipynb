{
  "nbformat": 4,
  "nbformat_minor": 0,
  "metadata": {
    "colab": {
      "provenance": []
    },
    "kernelspec": {
      "name": "python3",
      "display_name": "Python 3"
    },
    "language_info": {
      "name": "python"
    }
  },
  "cells": [
    {
      "cell_type": "code",
      "execution_count": 1,
      "metadata": {
        "id": "Z6XHDQhMdxhr"
      },
      "outputs": [],
      "source": [
        "#Write a program to develop robot traversal problem using Perceptron models, and multi-category models."
      ]
    },
    {
      "cell_type": "code",
      "source": [
        "import numpy as np\n",
        "from sklearn.linear_model import Perceptron\n",
        "from sklearn.linear_model import LogisticRegression\n",
        "\n",
        "# Sample dataset\n",
        "X = np.array([\n",
        "    [0, 0, 1, 0],  # free down\n",
        "    [1, 0, 1, 0],  # free down\n",
        "    [0, 1, 1, 0],  # free up\n",
        "    [1, 1, 1, 1],  # blocked all sides\n",
        "    [0, 0, 0, 1],  # free up and down\n",
        "    [0, 1, 0, 0]   # free up, right\n",
        "])\n",
        "\n",
        "# Labels for binary classification (1 = move, 0 = stop)\n",
        "y_binary = np.array([1, 1, 1, 0, 1, 1])\n",
        "\n",
        "# Labels for multi-class classification (direction)\n",
        "# Up = 0, Down = 1, Left = 2, Right = 3, -1 = no direction (stop)\n",
        "y_multi = np.array([1, 1, 0, -1, 0, 3])\n",
        "\n",
        "# Train Perceptron for binary classification\n",
        "perceptron = Perceptron()\n",
        "perceptron.fit(X, y_binary)\n",
        "\n",
        "# Train Logistic Regression for multi-class classification\n",
        "# Filter out rows with no direction (-1)\n",
        "X_multi = X[y_multi != -1]\n",
        "y_multi_filtered = y_multi[y_multi != -1]\n",
        "\n",
        "multi_model = LogisticRegression(multi_class=\"multinomial\", solver='lbfgs')\n",
        "multi_model.fit(X_multi, y_multi_filtered)\n",
        "\n",
        "# Test data (robot senses obstacles)\n",
        "test_input = np.array([[0, 0, 1, 0]])  # free down\n",
        "\n",
        "# Predict movement decision\n",
        "move_decision = perceptron.predict(test_input)[0]\n",
        "\n",
        "if move_decision == 1:\n",
        "    direction = multi_model.predict(test_input)[0]\n",
        "    direction_map = {0: \"Up\", 1: \"Down\", 2: \"Left\", 3: \"Right\"}\n",
        "    print(\"Decision: MOVE\")\n",
        "    print(\"Direction:\", direction_map[direction])\n",
        "else:\n",
        "    print(\"Decision: STOP\")"
      ],
      "metadata": {
        "colab": {
          "base_uri": "https://localhost:8080/"
        },
        "id": "ycyeG86GgjAn",
        "outputId": "6f7142ba-46fc-468a-df21-c475a8591b3a"
      },
      "execution_count": 2,
      "outputs": [
        {
          "output_type": "stream",
          "name": "stdout",
          "text": [
            "Decision: MOVE\n",
            "Direction: Down\n"
          ]
        },
        {
          "output_type": "stream",
          "name": "stderr",
          "text": [
            "/usr/local/lib/python3.11/dist-packages/sklearn/linear_model/_logistic.py:1247: FutureWarning: 'multi_class' was deprecated in version 1.5 and will be removed in 1.7. From then on, it will always use 'multinomial'. Leave it to its default value to avoid this warning.\n",
            "  warnings.warn(\n"
          ]
        }
      ]
    }
  ]
}