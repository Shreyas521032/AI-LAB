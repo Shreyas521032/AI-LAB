{
  "nbformat": 4,
  "nbformat_minor": 0,
  "metadata": {
    "colab": {
      "provenance": []
    },
    "kernelspec": {
      "name": "python3",
      "display_name": "Python 3"
    },
    "language_info": {
      "name": "python"
    }
  },
  "cells": [
    {
      "cell_type": "code",
      "execution_count": 1,
      "metadata": {
        "id": "Xf1B0cdWaUuM"
      },
      "outputs": [],
      "source": [
        "# 1. Write a program to implement Breadth first search on given dataset"
      ]
    },
    {
      "cell_type": "code",
      "source": [
        "def bfs(graph, start_node):\n",
        "    visited = set()\n",
        "    queue = [start_node]\n",
        "\n",
        "    while queue:\n",
        "        node = queue.pop(0)\n",
        "        if node not in visited:\n",
        "            visited.add(node)\n",
        "            print(node, end=\" \")\n",
        "\n",
        "            for neighbor in graph[node]:\n",
        "                if neighbor not in visited:\n",
        "                    queue.append(neighbor)\n",
        "\n",
        "graph = {\n",
        "    'A': ['B', 'C'],\n",
        "    'B': ['A', 'D', 'E'],\n",
        "    'C': ['A', 'F'],\n",
        "    'D': ['B'],\n",
        "    'E': ['B', 'F'],\n",
        "    'F': ['C', 'E']\n",
        "}\n",
        "\n",
        "print(\"Breadth First Search starting from node 'A':\")\n",
        "bfs(graph, 'A')"
      ],
      "metadata": {
        "colab": {
          "base_uri": "https://localhost:8080/"
        },
        "id": "cwBUTAZqaY_y",
        "outputId": "750f8f18-2f7c-4d8b-e68b-c94a87724742"
      },
      "execution_count": 2,
      "outputs": [
        {
          "output_type": "stream",
          "name": "stdout",
          "text": [
            "Breadth First Search starting from node 'A':\n",
            "A B C D E F "
          ]
        }
      ]
    }
  ]
}